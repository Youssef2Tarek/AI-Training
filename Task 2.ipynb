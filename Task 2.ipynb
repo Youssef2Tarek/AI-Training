{
 "cells": [
  {
   "cell_type": "code",
   "execution_count": 48,
   "id": "7a6b2371",
   "metadata": {},
   "outputs": [],
   "source": [
    "import pandas as pd\n",
    "import matplotlib.pyplot as plt\n",
    "from sklearn.model_selection import train_test_split\n",
    "from tensorflow import keras\n",
    "from sklearn.metrics import r2_score\n",
    "from sklearn.metrics import mean_squared_error\n",
    "from sklearn.metrics import mean_absolute_error\n",
    "from keras.models import Sequential\n",
    "from keras.layers import Dense, Dropout, LSTM\n",
    "from keras.layers import Conv2D, MaxPooling2D, Flatten, Dense\n",
    "from sklearn.preprocessing import MinMaxScaler\n",
    "import tensorflow as tf"
   ]
  },
  {
   "cell_type": "code",
   "execution_count": 49,
   "id": "f6f6f714",
   "metadata": {},
   "outputs": [],
   "source": [
    "# Read sample\n",
    "df = pd.read_csv(\"sample_submission.csv\", index_col = 'id')"
   ]
  },
  {
   "cell_type": "code",
   "execution_count": 50,
   "id": "42917c00",
   "metadata": {},
   "outputs": [
    {
     "data": {
      "text/html": [
       "<div>\n",
       "<style scoped>\n",
       "    .dataframe tbody tr th:only-of-type {\n",
       "        vertical-align: middle;\n",
       "    }\n",
       "\n",
       "    .dataframe tbody tr th {\n",
       "        vertical-align: top;\n",
       "    }\n",
       "\n",
       "    .dataframe thead th {\n",
       "        text-align: right;\n",
       "    }\n",
       "</style>\n",
       "<table border=\"1\" class=\"dataframe\">\n",
       "  <thead>\n",
       "    <tr style=\"text-align: right;\">\n",
       "      <th></th>\n",
       "      <th>pressure</th>\n",
       "    </tr>\n",
       "    <tr>\n",
       "      <th>id</th>\n",
       "      <th></th>\n",
       "    </tr>\n",
       "  </thead>\n",
       "  <tbody>\n",
       "    <tr>\n",
       "      <th>1</th>\n",
       "      <td>0</td>\n",
       "    </tr>\n",
       "    <tr>\n",
       "      <th>2</th>\n",
       "      <td>0</td>\n",
       "    </tr>\n",
       "    <tr>\n",
       "      <th>3</th>\n",
       "      <td>0</td>\n",
       "    </tr>\n",
       "    <tr>\n",
       "      <th>4</th>\n",
       "      <td>0</td>\n",
       "    </tr>\n",
       "    <tr>\n",
       "      <th>5</th>\n",
       "      <td>0</td>\n",
       "    </tr>\n",
       "  </tbody>\n",
       "</table>\n",
       "</div>"
      ],
      "text/plain": [
       "    pressure\n",
       "id          \n",
       "1          0\n",
       "2          0\n",
       "3          0\n",
       "4          0\n",
       "5          0"
      ]
     },
     "execution_count": 50,
     "metadata": {},
     "output_type": "execute_result"
    }
   ],
   "source": [
    "# print smaple data\n",
    "df.head()"
   ]
  },
  {
   "cell_type": "code",
   "execution_count": 51,
   "id": "2e0148cb",
   "metadata": {},
   "outputs": [],
   "source": [
    "# Read training data\n",
    "df2 = pd.read_csv(\"train.csv\", index_col = 'id')"
   ]
  },
  {
   "cell_type": "code",
   "execution_count": 52,
   "id": "49af0f19",
   "metadata": {},
   "outputs": [
    {
     "data": {
      "text/html": [
       "<div>\n",
       "<style scoped>\n",
       "    .dataframe tbody tr th:only-of-type {\n",
       "        vertical-align: middle;\n",
       "    }\n",
       "\n",
       "    .dataframe tbody tr th {\n",
       "        vertical-align: top;\n",
       "    }\n",
       "\n",
       "    .dataframe thead th {\n",
       "        text-align: right;\n",
       "    }\n",
       "</style>\n",
       "<table border=\"1\" class=\"dataframe\">\n",
       "  <thead>\n",
       "    <tr style=\"text-align: right;\">\n",
       "      <th></th>\n",
       "      <th>breath_id</th>\n",
       "      <th>R</th>\n",
       "      <th>C</th>\n",
       "      <th>time_step</th>\n",
       "      <th>u_in</th>\n",
       "      <th>u_out</th>\n",
       "      <th>pressure</th>\n",
       "    </tr>\n",
       "    <tr>\n",
       "      <th>id</th>\n",
       "      <th></th>\n",
       "      <th></th>\n",
       "      <th></th>\n",
       "      <th></th>\n",
       "      <th></th>\n",
       "      <th></th>\n",
       "      <th></th>\n",
       "    </tr>\n",
       "  </thead>\n",
       "  <tbody>\n",
       "    <tr>\n",
       "      <th>1</th>\n",
       "      <td>1</td>\n",
       "      <td>20</td>\n",
       "      <td>50</td>\n",
       "      <td>0.000000</td>\n",
       "      <td>0.083334</td>\n",
       "      <td>0</td>\n",
       "      <td>5.837492</td>\n",
       "    </tr>\n",
       "    <tr>\n",
       "      <th>2</th>\n",
       "      <td>1</td>\n",
       "      <td>20</td>\n",
       "      <td>50</td>\n",
       "      <td>0.033652</td>\n",
       "      <td>18.383041</td>\n",
       "      <td>0</td>\n",
       "      <td>5.907794</td>\n",
       "    </tr>\n",
       "    <tr>\n",
       "      <th>3</th>\n",
       "      <td>1</td>\n",
       "      <td>20</td>\n",
       "      <td>50</td>\n",
       "      <td>0.067514</td>\n",
       "      <td>22.509278</td>\n",
       "      <td>0</td>\n",
       "      <td>7.876254</td>\n",
       "    </tr>\n",
       "    <tr>\n",
       "      <th>4</th>\n",
       "      <td>1</td>\n",
       "      <td>20</td>\n",
       "      <td>50</td>\n",
       "      <td>0.101542</td>\n",
       "      <td>22.808822</td>\n",
       "      <td>0</td>\n",
       "      <td>11.742872</td>\n",
       "    </tr>\n",
       "    <tr>\n",
       "      <th>5</th>\n",
       "      <td>1</td>\n",
       "      <td>20</td>\n",
       "      <td>50</td>\n",
       "      <td>0.135756</td>\n",
       "      <td>25.355850</td>\n",
       "      <td>0</td>\n",
       "      <td>12.234987</td>\n",
       "    </tr>\n",
       "  </tbody>\n",
       "</table>\n",
       "</div>"
      ],
      "text/plain": [
       "    breath_id   R   C  time_step       u_in  u_out   pressure\n",
       "id                                                           \n",
       "1           1  20  50   0.000000   0.083334      0   5.837492\n",
       "2           1  20  50   0.033652  18.383041      0   5.907794\n",
       "3           1  20  50   0.067514  22.509278      0   7.876254\n",
       "4           1  20  50   0.101542  22.808822      0  11.742872\n",
       "5           1  20  50   0.135756  25.355850      0  12.234987"
      ]
     },
     "execution_count": 52,
     "metadata": {},
     "output_type": "execute_result"
    }
   ],
   "source": [
    "# print training data\n",
    "df2.head()"
   ]
  },
  {
   "cell_type": "code",
   "execution_count": 53,
   "id": "672e4604",
   "metadata": {},
   "outputs": [],
   "source": [
    "# Read testing data\n",
    "df3 = pd.read_csv(\"test.csv\", index_col = 'id')"
   ]
  },
  {
   "cell_type": "code",
   "execution_count": 54,
   "id": "dc766f6c",
   "metadata": {
    "scrolled": true
   },
   "outputs": [
    {
     "data": {
      "text/html": [
       "<div>\n",
       "<style scoped>\n",
       "    .dataframe tbody tr th:only-of-type {\n",
       "        vertical-align: middle;\n",
       "    }\n",
       "\n",
       "    .dataframe tbody tr th {\n",
       "        vertical-align: top;\n",
       "    }\n",
       "\n",
       "    .dataframe thead th {\n",
       "        text-align: right;\n",
       "    }\n",
       "</style>\n",
       "<table border=\"1\" class=\"dataframe\">\n",
       "  <thead>\n",
       "    <tr style=\"text-align: right;\">\n",
       "      <th></th>\n",
       "      <th>breath_id</th>\n",
       "      <th>R</th>\n",
       "      <th>C</th>\n",
       "      <th>time_step</th>\n",
       "      <th>u_in</th>\n",
       "      <th>u_out</th>\n",
       "    </tr>\n",
       "    <tr>\n",
       "      <th>id</th>\n",
       "      <th></th>\n",
       "      <th></th>\n",
       "      <th></th>\n",
       "      <th></th>\n",
       "      <th></th>\n",
       "      <th></th>\n",
       "    </tr>\n",
       "  </thead>\n",
       "  <tbody>\n",
       "    <tr>\n",
       "      <th>1</th>\n",
       "      <td>0</td>\n",
       "      <td>5</td>\n",
       "      <td>20</td>\n",
       "      <td>0.000000</td>\n",
       "      <td>0.000000</td>\n",
       "      <td>0</td>\n",
       "    </tr>\n",
       "    <tr>\n",
       "      <th>2</th>\n",
       "      <td>0</td>\n",
       "      <td>5</td>\n",
       "      <td>20</td>\n",
       "      <td>0.031904</td>\n",
       "      <td>7.515046</td>\n",
       "      <td>0</td>\n",
       "    </tr>\n",
       "    <tr>\n",
       "      <th>3</th>\n",
       "      <td>0</td>\n",
       "      <td>5</td>\n",
       "      <td>20</td>\n",
       "      <td>0.063827</td>\n",
       "      <td>14.651675</td>\n",
       "      <td>0</td>\n",
       "    </tr>\n",
       "    <tr>\n",
       "      <th>4</th>\n",
       "      <td>0</td>\n",
       "      <td>5</td>\n",
       "      <td>20</td>\n",
       "      <td>0.095751</td>\n",
       "      <td>21.230610</td>\n",
       "      <td>0</td>\n",
       "    </tr>\n",
       "    <tr>\n",
       "      <th>5</th>\n",
       "      <td>0</td>\n",
       "      <td>5</td>\n",
       "      <td>20</td>\n",
       "      <td>0.127644</td>\n",
       "      <td>26.320956</td>\n",
       "      <td>0</td>\n",
       "    </tr>\n",
       "  </tbody>\n",
       "</table>\n",
       "</div>"
      ],
      "text/plain": [
       "    breath_id  R   C  time_step       u_in  u_out\n",
       "id                                               \n",
       "1           0  5  20   0.000000   0.000000      0\n",
       "2           0  5  20   0.031904   7.515046      0\n",
       "3           0  5  20   0.063827  14.651675      0\n",
       "4           0  5  20   0.095751  21.230610      0\n",
       "5           0  5  20   0.127644  26.320956      0"
      ]
     },
     "execution_count": 54,
     "metadata": {},
     "output_type": "execute_result"
    }
   ],
   "source": [
    "# print testing data\n",
    "df3.head()"
   ]
  },
  {
   "cell_type": "code",
   "execution_count": 55,
   "id": "c2789ddb",
   "metadata": {},
   "outputs": [
    {
     "data": {
      "text/plain": [
       "breath_id    0\n",
       "R            0\n",
       "C            0\n",
       "time_step    0\n",
       "u_in         0\n",
       "u_out        0\n",
       "pressure     0\n",
       "dtype: int64"
      ]
     },
     "execution_count": 55,
     "metadata": {},
     "output_type": "execute_result"
    }
   ],
   "source": [
    "# Check for nulls in training data\n",
    "df2.isna().sum()"
   ]
  },
  {
   "cell_type": "code",
   "execution_count": 56,
   "id": "87ff2c83",
   "metadata": {},
   "outputs": [
    {
     "data": {
      "text/plain": [
       "breath_id    0\n",
       "R            0\n",
       "C            0\n",
       "time_step    0\n",
       "u_in         0\n",
       "u_out        0\n",
       "dtype: int64"
      ]
     },
     "execution_count": 56,
     "metadata": {},
     "output_type": "execute_result"
    }
   ],
   "source": [
    "# Check for nulls in testing data\n",
    "df3.isna().sum()"
   ]
  },
  {
   "cell_type": "code",
   "execution_count": 57,
   "id": "91d47e3f",
   "metadata": {
    "scrolled": true
   },
   "outputs": [
    {
     "data": {
      "text/plain": [
       "{'whiskers': [<matplotlib.lines.Line2D at 0x2d00989f1c0>,\n",
       "  <matplotlib.lines.Line2D at 0x2d0106084f0>,\n",
       "  <matplotlib.lines.Line2D at 0x2d01065c400>,\n",
       "  <matplotlib.lines.Line2D at 0x2d01065c1c0>,\n",
       "  <matplotlib.lines.Line2D at 0x2d009849400>,\n",
       "  <matplotlib.lines.Line2D at 0x2d009849940>,\n",
       "  <matplotlib.lines.Line2D at 0x2d0105f7ee0>,\n",
       "  <matplotlib.lines.Line2D at 0x2d00989b130>,\n",
       "  <matplotlib.lines.Line2D at 0x2d009919610>,\n",
       "  <matplotlib.lines.Line2D at 0x2d0099193a0>,\n",
       "  <matplotlib.lines.Line2D at 0x2d0098b9af0>,\n",
       "  <matplotlib.lines.Line2D at 0x2d0098a7370>,\n",
       "  <matplotlib.lines.Line2D at 0x2d010611d60>,\n",
       "  <matplotlib.lines.Line2D at 0x2d0106117c0>],\n",
       " 'caps': [<matplotlib.lines.Line2D at 0x2d010608550>,\n",
       "  <matplotlib.lines.Line2D at 0x2d010608be0>,\n",
       "  <matplotlib.lines.Line2D at 0x2d01065c8b0>,\n",
       "  <matplotlib.lines.Line2D at 0x2d01065ca90>,\n",
       "  <matplotlib.lines.Line2D at 0x2d0106066d0>,\n",
       "  <matplotlib.lines.Line2D at 0x2d010606880>,\n",
       "  <matplotlib.lines.Line2D at 0x2d009935970>,\n",
       "  <matplotlib.lines.Line2D at 0x2d009935ca0>,\n",
       "  <matplotlib.lines.Line2D at 0x2d0099190d0>,\n",
       "  <matplotlib.lines.Line2D at 0x2d009919490>,\n",
       "  <matplotlib.lines.Line2D at 0x2d0098a7220>,\n",
       "  <matplotlib.lines.Line2D at 0x2d008105d30>,\n",
       "  <matplotlib.lines.Line2D at 0x2d010611c40>,\n",
       "  <matplotlib.lines.Line2D at 0x2d0080de1f0>],\n",
       " 'boxes': [<matplotlib.lines.Line2D at 0x2d009892580>,\n",
       "  <matplotlib.lines.Line2D at 0x2d002c5ae20>,\n",
       "  <matplotlib.lines.Line2D at 0x2d009849cd0>,\n",
       "  <matplotlib.lines.Line2D at 0x2d0106064c0>,\n",
       "  <matplotlib.lines.Line2D at 0x2d009919ac0>,\n",
       "  <matplotlib.lines.Line2D at 0x2d0098b9c70>,\n",
       "  <matplotlib.lines.Line2D at 0x2d0106118b0>],\n",
       " 'medians': [<matplotlib.lines.Line2D at 0x2d010608c40>,\n",
       "  <matplotlib.lines.Line2D at 0x2d01065cb80>,\n",
       "  <matplotlib.lines.Line2D at 0x2d010606250>,\n",
       "  <matplotlib.lines.Line2D at 0x2d009935730>,\n",
       "  <matplotlib.lines.Line2D at 0x2d0098b94c0>,\n",
       "  <matplotlib.lines.Line2D at 0x2d010611b20>,\n",
       "  <matplotlib.lines.Line2D at 0x2d010655be0>],\n",
       " 'fliers': [<matplotlib.lines.Line2D at 0x2d010608f10>,\n",
       "  <matplotlib.lines.Line2D at 0x2d002c621f0>,\n",
       "  <matplotlib.lines.Line2D at 0x2d010606df0>,\n",
       "  <matplotlib.lines.Line2D at 0x2d0099357f0>,\n",
       "  <matplotlib.lines.Line2D at 0x2d0098b9bb0>,\n",
       "  <matplotlib.lines.Line2D at 0x2d010611dc0>,\n",
       "  <matplotlib.lines.Line2D at 0x2d010655ee0>],\n",
       " 'means': []}"
      ]
     },
     "execution_count": 57,
     "metadata": {},
     "output_type": "execute_result"
    },
    {
     "data": {
      "image/png": "[encoded data removed]",
      "text/plain": [
       "<Figure size 640x480 with 1 Axes>"
      ]
     },
     "metadata": {},
     "output_type": "display_data"
    }
   ],
   "source": [
    "# Check for outliers in training data\n",
    "plt.boxplot(df2)"
   ]
  },
  {
   "cell_type": "code",
   "execution_count": 58,
   "id": "07027cbd",
   "metadata": {},
   "outputs": [
    {
     "data": {
      "text/plain": [
       "{'whiskers': [<matplotlib.lines.Line2D at 0x2d0166e4f10>,\n",
       "  <matplotlib.lines.Line2D at 0x2d016574220>,\n",
       "  <matplotlib.lines.Line2D at 0x2d016581340>,\n",
       "  <matplotlib.lines.Line2D at 0x2d016581610>,\n",
       "  <matplotlib.lines.Line2D at 0x2d016590730>,\n",
       "  <matplotlib.lines.Line2D at 0x2d016590a00>,\n",
       "  <matplotlib.lines.Line2D at 0x2d01659db20>,\n",
       "  <matplotlib.lines.Line2D at 0x2d01659ddf0>,\n",
       "  <matplotlib.lines.Line2D at 0x2d0165a9f10>,\n",
       "  <matplotlib.lines.Line2D at 0x2d0165b4220>,\n",
       "  <matplotlib.lines.Line2D at 0x2d0165c5340>,\n",
       "  <matplotlib.lines.Line2D at 0x2d0165c5610>],\n",
       " 'caps': [<matplotlib.lines.Line2D at 0x2d0165744f0>,\n",
       "  <matplotlib.lines.Line2D at 0x2d0165747c0>,\n",
       "  <matplotlib.lines.Line2D at 0x2d0165818e0>,\n",
       "  <matplotlib.lines.Line2D at 0x2d016581bb0>,\n",
       "  <matplotlib.lines.Line2D at 0x2d016590cd0>,\n",
       "  <matplotlib.lines.Line2D at 0x2d016590fa0>,\n",
       "  <matplotlib.lines.Line2D at 0x2d0165a9100>,\n",
       "  <matplotlib.lines.Line2D at 0x2d0165a93d0>,\n",
       "  <matplotlib.lines.Line2D at 0x2d0165b44f0>,\n",
       "  <matplotlib.lines.Line2D at 0x2d0165b47c0>,\n",
       "  <matplotlib.lines.Line2D at 0x2d0165c58e0>,\n",
       "  <matplotlib.lines.Line2D at 0x2d0165c5bb0>],\n",
       " 'boxes': [<matplotlib.lines.Line2D at 0x2d0166e4c40>,\n",
       "  <matplotlib.lines.Line2D at 0x2d016581070>,\n",
       "  <matplotlib.lines.Line2D at 0x2d016590460>,\n",
       "  <matplotlib.lines.Line2D at 0x2d01659d850>,\n",
       "  <matplotlib.lines.Line2D at 0x2d0165a9c40>,\n",
       "  <matplotlib.lines.Line2D at 0x2d0165c5070>],\n",
       " 'medians': [<matplotlib.lines.Line2D at 0x2d016574a90>,\n",
       "  <matplotlib.lines.Line2D at 0x2d016581e80>,\n",
       "  <matplotlib.lines.Line2D at 0x2d01659d2b0>,\n",
       "  <matplotlib.lines.Line2D at 0x2d0165a96a0>,\n",
       "  <matplotlib.lines.Line2D at 0x2d0165b4a90>,\n",
       "  <matplotlib.lines.Line2D at 0x2d0165c5e80>],\n",
       " 'fliers': [<matplotlib.lines.Line2D at 0x2d016574d60>,\n",
       "  <matplotlib.lines.Line2D at 0x2d016590190>,\n",
       "  <matplotlib.lines.Line2D at 0x2d01659d580>,\n",
       "  <matplotlib.lines.Line2D at 0x2d0165a9970>,\n",
       "  <matplotlib.lines.Line2D at 0x2d0165b4d60>,\n",
       "  <matplotlib.lines.Line2D at 0x2d0165d3190>],\n",
       " 'means': []}"
      ]
     },
     "execution_count": 58,
     "metadata": {},
     "output_type": "execute_result"
    },
    {
     "data": {
      "image/png": "[encoded data removed]",
      "text/plain": [
       "<Figure size 640x480 with 1 Axes>"
      ]
     },
     "metadata": {},
     "output_type": "display_data"
    }
   ],
   "source": [
    "plt.boxplot(df2.drop('breath_id', axis = 1))"
   ]
  },
  {
   "cell_type": "code",
   "execution_count": 59,
   "id": "63ff5ee8",
   "metadata": {},
   "outputs": [],
   "source": [
    "quartile1 = df2['u_in'].quantile(0.25)\n",
    "quartile3 = df2['u_in'].quantile(0.75)\n",
    "iqr = quartile3 - quartile1\n",
    "upper_limit = quartile3 + 1.5 * iqr\n",
    "lower_limit = quartile1 - 1.5 * iqr\n",
    "df2.dropna(subset = ['u_in'], thresh = lower_limit, inplace = True)\n",
    "df2.drop(df2[df2['u_in'] > upper_limit].index, inplace = True)"
   ]
  },
  {
   "cell_type": "code",
   "execution_count": 60,
   "id": "5a6cb528",
   "metadata": {},
   "outputs": [],
   "source": [
    "quartile1 = df2['pressure'].quantile(0.25)\n",
    "quartile3 = df2['pressure'].quantile(0.75)\n",
    "iqr = quartile3 - quartile1\n",
    "upper_limit = quartile3 + 1.5 * iqr\n",
    "lower_limit = quartile1 - 1.5 * iqr\n",
    "df2.dropna(subset = ['pressure'], thresh = lower_limit, inplace = True)\n",
    "df2.drop(df2[df2['pressure'] > upper_limit].index, inplace = True)"
   ]
  },
  {
   "cell_type": "code",
   "execution_count": 61,
   "id": "2ff85c9e",
   "metadata": {
    "scrolled": true
   },
   "outputs": [
    {
     "data": {
      "text/plain": [
       "{'whiskers': [<matplotlib.lines.Line2D at 0x2d016634f40>,\n",
       "  <matplotlib.lines.Line2D at 0x2d016644250>,\n",
       "  <matplotlib.lines.Line2D at 0x2d016650370>,\n",
       "  <matplotlib.lines.Line2D at 0x2d016650640>,\n",
       "  <matplotlib.lines.Line2D at 0x2d016660760>,\n",
       "  <matplotlib.lines.Line2D at 0x2d016660a30>,\n",
       "  <matplotlib.lines.Line2D at 0x2d01666cb80>,\n",
       "  <matplotlib.lines.Line2D at 0x2d01666ce50>,\n",
       "  <matplotlib.lines.Line2D at 0x2d01667af70>,\n",
       "  <matplotlib.lines.Line2D at 0x2d016686280>,\n",
       "  <matplotlib.lines.Line2D at 0x2d0166953a0>,\n",
       "  <matplotlib.lines.Line2D at 0x2d016695670>],\n",
       " 'caps': [<matplotlib.lines.Line2D at 0x2d016644520>,\n",
       "  <matplotlib.lines.Line2D at 0x2d0166447f0>,\n",
       "  <matplotlib.lines.Line2D at 0x2d016650910>,\n",
       "  <matplotlib.lines.Line2D at 0x2d016650be0>,\n",
       "  <matplotlib.lines.Line2D at 0x2d016660d30>,\n",
       "  <matplotlib.lines.Line2D at 0x2d01666c040>,\n",
       "  <matplotlib.lines.Line2D at 0x2d01667a160>,\n",
       "  <matplotlib.lines.Line2D at 0x2d01667a430>,\n",
       "  <matplotlib.lines.Line2D at 0x2d016686550>,\n",
       "  <matplotlib.lines.Line2D at 0x2d016686820>,\n",
       "  <matplotlib.lines.Line2D at 0x2d016695940>,\n",
       "  <matplotlib.lines.Line2D at 0x2d016695c10>],\n",
       " 'boxes': [<matplotlib.lines.Line2D at 0x2d016634c70>,\n",
       "  <matplotlib.lines.Line2D at 0x2d0166500a0>,\n",
       "  <matplotlib.lines.Line2D at 0x2d016660490>,\n",
       "  <matplotlib.lines.Line2D at 0x2d01666c8b0>,\n",
       "  <matplotlib.lines.Line2D at 0x2d01667aca0>,\n",
       "  <matplotlib.lines.Line2D at 0x2d0166950d0>],\n",
       " 'medians': [<matplotlib.lines.Line2D at 0x2d016644ac0>,\n",
       "  <matplotlib.lines.Line2D at 0x2d016650eb0>,\n",
       "  <matplotlib.lines.Line2D at 0x2d01666c310>,\n",
       "  <matplotlib.lines.Line2D at 0x2d01667a700>,\n",
       "  <matplotlib.lines.Line2D at 0x2d016686af0>,\n",
       "  <matplotlib.lines.Line2D at 0x2d016695ee0>],\n",
       " 'fliers': [<matplotlib.lines.Line2D at 0x2d016644d90>,\n",
       "  <matplotlib.lines.Line2D at 0x2d0166601c0>,\n",
       "  <matplotlib.lines.Line2D at 0x2d01666c5e0>,\n",
       "  <matplotlib.lines.Line2D at 0x2d01667a9d0>,\n",
       "  <matplotlib.lines.Line2D at 0x2d016686dc0>,\n",
       "  <matplotlib.lines.Line2D at 0x2d0166a21f0>],\n",
       " 'means': []}"
      ]
     },
     "execution_count": 61,
     "metadata": {},
     "output_type": "execute_result"
    },
    {
     "data": {
      "image/png": "[encoded data removed]",
      "text/plain": [
       "<Figure size 640x480 with 1 Axes>"
      ]
     },
     "metadata": {},
     "output_type": "display_data"
    }
   ],
   "source": [
    "# Check for outliers in testing data\n",
    "plt.boxplot(df3)"
   ]
  },
  {
   "cell_type": "code",
   "execution_count": 62,
   "id": "4086fe30",
   "metadata": {},
   "outputs": [
    {
     "data": {
      "text/plain": [
       "0"
      ]
     },
     "execution_count": 62,
     "metadata": {},
     "output_type": "execute_result"
    }
   ],
   "source": [
    "# Check for duplicates in training data\n",
    "df2.duplicated().sum()"
   ]
  },
  {
   "cell_type": "code",
   "execution_count": 63,
   "id": "53f39982",
   "metadata": {},
   "outputs": [
    {
     "data": {
      "text/plain": [
       "0"
      ]
     },
     "execution_count": 63,
     "metadata": {},
     "output_type": "execute_result"
    }
   ],
   "source": [
    "# Check for duplicates in testing data\n",
    "df3.duplicated().sum()"
   ]
  },
  {
   "cell_type": "code",
   "execution_count": 64,
   "id": "21d844d2",
   "metadata": {},
   "outputs": [
    {
     "data": {
      "text/html": [
       "<div>\n",
       "<style scoped>\n",
       "    .dataframe tbody tr th:only-of-type {\n",
       "        vertical-align: middle;\n",
       "    }\n",
       "\n",
       "    .dataframe tbody tr th {\n",
       "        vertical-align: top;\n",
       "    }\n",
       "\n",
       "    .dataframe thead th {\n",
       "        text-align: right;\n",
       "    }\n",
       "</style>\n",
       "<table border=\"1\" class=\"dataframe\">\n",
       "  <thead>\n",
       "    <tr style=\"text-align: right;\">\n",
       "      <th></th>\n",
       "      <th>breath_id</th>\n",
       "      <th>R</th>\n",
       "      <th>C</th>\n",
       "      <th>time_step</th>\n",
       "      <th>u_in</th>\n",
       "      <th>u_out</th>\n",
       "      <th>pressure</th>\n",
       "    </tr>\n",
       "  </thead>\n",
       "  <tbody>\n",
       "    <tr>\n",
       "      <th>count</th>\n",
       "      <td>4.422496e+06</td>\n",
       "      <td>4.422496e+06</td>\n",
       "      <td>4.422496e+06</td>\n",
       "      <td>4.422496e+06</td>\n",
       "      <td>4.422496e+06</td>\n",
       "      <td>4.422496e+06</td>\n",
       "      <td>4.422496e+06</td>\n",
       "    </tr>\n",
       "    <tr>\n",
       "      <th>mean</th>\n",
       "      <td>6.289155e+04</td>\n",
       "      <td>2.751340e+01</td>\n",
       "      <td>2.606659e+01</td>\n",
       "      <td>1.578327e+00</td>\n",
       "      <td>3.070310e+00</td>\n",
       "      <td>8.153441e-01</td>\n",
       "      <td>7.251134e+00</td>\n",
       "    </tr>\n",
       "    <tr>\n",
       "      <th>std</th>\n",
       "      <td>3.632755e+04</td>\n",
       "      <td>1.959656e+01</td>\n",
       "      <td>1.716754e+01</td>\n",
       "      <td>7.008444e-01</td>\n",
       "      <td>2.408834e+00</td>\n",
       "      <td>3.880182e-01</td>\n",
       "      <td>2.182174e+00</td>\n",
       "    </tr>\n",
       "    <tr>\n",
       "      <th>min</th>\n",
       "      <td>1.000000e+00</td>\n",
       "      <td>5.000000e+00</td>\n",
       "      <td>1.000000e+01</td>\n",
       "      <td>0.000000e+00</td>\n",
       "      <td>0.000000e+00</td>\n",
       "      <td>0.000000e+00</td>\n",
       "      <td>-1.895744e+00</td>\n",
       "    </tr>\n",
       "    <tr>\n",
       "      <th>25%</th>\n",
       "      <td>3.141400e+04</td>\n",
       "      <td>5.000000e+00</td>\n",
       "      <td>1.000000e+01</td>\n",
       "      <td>1.171209e+00</td>\n",
       "      <td>0.000000e+00</td>\n",
       "      <td>1.000000e+00</td>\n",
       "      <td>6.189002e+00</td>\n",
       "    </tr>\n",
       "    <tr>\n",
       "      <th>50%</th>\n",
       "      <td>6.290300e+04</td>\n",
       "      <td>2.000000e+01</td>\n",
       "      <td>2.000000e+01</td>\n",
       "      <td>1.658482e+00</td>\n",
       "      <td>3.785219e+00</td>\n",
       "      <td>1.000000e+00</td>\n",
       "      <td>6.610815e+00</td>\n",
       "    </tr>\n",
       "    <tr>\n",
       "      <th>75%</th>\n",
       "      <td>9.432600e+04</td>\n",
       "      <td>5.000000e+01</td>\n",
       "      <td>5.000000e+01</td>\n",
       "      <td>2.142727e+00</td>\n",
       "      <td>4.889413e+00</td>\n",
       "      <td>1.000000e+00</td>\n",
       "      <td>7.454441e+00</td>\n",
       "    </tr>\n",
       "    <tr>\n",
       "      <th>max</th>\n",
       "      <td>1.257490e+05</td>\n",
       "      <td>5.000000e+01</td>\n",
       "      <td>5.000000e+01</td>\n",
       "      <td>2.937238e+00</td>\n",
       "      <td>1.186921e+01</td>\n",
       "      <td>1.000000e+00</td>\n",
       "      <td>1.532828e+01</td>\n",
       "    </tr>\n",
       "  </tbody>\n",
       "</table>\n",
       "</div>"
      ],
      "text/plain": [
       "          breath_id             R             C     time_step          u_in  \\\n",
       "count  4.422496e+06  4.422496e+06  4.422496e+06  4.422496e+06  4.422496e+06   \n",
       "mean   6.289155e+04  2.751340e+01  2.606659e+01  1.578327e+00  3.070310e+00   \n",
       "std    3.632755e+04  1.959656e+01  1.716754e+01  7.008444e-01  2.408834e+00   \n",
       "min    1.000000e+00  5.000000e+00  1.000000e+01  0.000000e+00  0.000000e+00   \n",
       "25%    3.141400e+04  5.000000e+00  1.000000e+01  1.171209e+00  0.000000e+00   \n",
       "50%    6.290300e+04  2.000000e+01  2.000000e+01  1.658482e+00  3.785219e+00   \n",
       "75%    9.432600e+04  5.000000e+01  5.000000e+01  2.142727e+00  4.889413e+00   \n",
       "max    1.257490e+05  5.000000e+01  5.000000e+01  2.937238e+00  1.186921e+01   \n",
       "\n",
       "              u_out      pressure  \n",
       "count  4.422496e+06  4.422496e+06  \n",
       "mean   8.153441e-01  7.251134e+00  \n",
       "std    3.880182e-01  2.182174e+00  \n",
       "min    0.000000e+00 -1.895744e+00  \n",
       "25%    1.000000e+00  6.189002e+00  \n",
       "50%    1.000000e+00  6.610815e+00  \n",
       "75%    1.000000e+00  7.454441e+00  \n",
       "max    1.000000e+00  1.532828e+01  "
      ]
     },
     "execution_count": 64,
     "metadata": {},
     "output_type": "execute_result"
    }
   ],
   "source": [
    "# Describtion for training data\n",
    "df2.describe()"
   ]
  },
  {
   "cell_type": "code",
   "execution_count": 65,
   "id": "674d2dff",
   "metadata": {
    "scrolled": false
   },
   "outputs": [
    {
     "data": {
      "text/html": [
       "<div>\n",
       "<style scoped>\n",
       "    .dataframe tbody tr th:only-of-type {\n",
       "        vertical-align: middle;\n",
       "    }\n",
       "\n",
       "    .dataframe tbody tr th {\n",
       "        vertical-align: top;\n",
       "    }\n",
       "\n",
       "    .dataframe thead th {\n",
       "        text-align: right;\n",
       "    }\n",
       "</style>\n",
       "<table border=\"1\" class=\"dataframe\">\n",
       "  <thead>\n",
       "    <tr style=\"text-align: right;\">\n",
       "      <th></th>\n",
       "      <th>breath_id</th>\n",
       "      <th>R</th>\n",
       "      <th>C</th>\n",
       "      <th>time_step</th>\n",
       "      <th>u_in</th>\n",
       "      <th>u_out</th>\n",
       "    </tr>\n",
       "  </thead>\n",
       "  <tbody>\n",
       "    <tr>\n",
       "      <th>count</th>\n",
       "      <td>4.024000e+06</td>\n",
       "      <td>4.024000e+06</td>\n",
       "      <td>4.024000e+06</td>\n",
       "      <td>4.024000e+06</td>\n",
       "      <td>4.024000e+06</td>\n",
       "      <td>4.024000e+06</td>\n",
       "    </tr>\n",
       "    <tr>\n",
       "      <th>mean</th>\n",
       "      <td>6.292796e+04</td>\n",
       "      <td>2.710785e+01</td>\n",
       "      <td>2.607038e+01</td>\n",
       "      <td>1.307083e+00</td>\n",
       "      <td>7.338098e+00</td>\n",
       "      <td>6.203864e-01</td>\n",
       "    </tr>\n",
       "    <tr>\n",
       "      <th>std</th>\n",
       "      <td>3.624924e+04</td>\n",
       "      <td>1.954281e+01</td>\n",
       "      <td>1.717103e+01</td>\n",
       "      <td>7.658902e-01</td>\n",
       "      <td>1.350955e+01</td>\n",
       "      <td>4.852908e-01</td>\n",
       "    </tr>\n",
       "    <tr>\n",
       "      <th>min</th>\n",
       "      <td>0.000000e+00</td>\n",
       "      <td>5.000000e+00</td>\n",
       "      <td>1.000000e+01</td>\n",
       "      <td>0.000000e+00</td>\n",
       "      <td>0.000000e+00</td>\n",
       "      <td>0.000000e+00</td>\n",
       "    </tr>\n",
       "    <tr>\n",
       "      <th>25%</th>\n",
       "      <td>3.153050e+04</td>\n",
       "      <td>5.000000e+00</td>\n",
       "      <td>1.000000e+01</td>\n",
       "      <td>6.428454e-01</td>\n",
       "      <td>4.096735e-01</td>\n",
       "      <td>0.000000e+00</td>\n",
       "    </tr>\n",
       "    <tr>\n",
       "      <th>50%</th>\n",
       "      <td>6.305750e+04</td>\n",
       "      <td>2.000000e+01</td>\n",
       "      <td>2.000000e+01</td>\n",
       "      <td>1.308083e+00</td>\n",
       "      <td>4.377512e+00</td>\n",
       "      <td>1.000000e+00</td>\n",
       "    </tr>\n",
       "    <tr>\n",
       "      <th>75%</th>\n",
       "      <td>9.433325e+04</td>\n",
       "      <td>5.000000e+01</td>\n",
       "      <td>5.000000e+01</td>\n",
       "      <td>1.965240e+00</td>\n",
       "      <td>4.983472e+00</td>\n",
       "      <td>1.000000e+00</td>\n",
       "    </tr>\n",
       "    <tr>\n",
       "      <th>max</th>\n",
       "      <td>1.257480e+05</td>\n",
       "      <td>5.000000e+01</td>\n",
       "      <td>5.000000e+01</td>\n",
       "      <td>2.935203e+00</td>\n",
       "      <td>1.000000e+02</td>\n",
       "      <td>1.000000e+00</td>\n",
       "    </tr>\n",
       "  </tbody>\n",
       "</table>\n",
       "</div>"
      ],
      "text/plain": [
       "          breath_id             R             C     time_step          u_in  \\\n",
       "count  4.024000e+06  4.024000e+06  4.024000e+06  4.024000e+06  4.024000e+06   \n",
       "mean   6.292796e+04  2.710785e+01  2.607038e+01  1.307083e+00  7.338098e+00   \n",
       "std    3.624924e+04  1.954281e+01  1.717103e+01  7.658902e-01  1.350955e+01   \n",
       "min    0.000000e+00  5.000000e+00  1.000000e+01  0.000000e+00  0.000000e+00   \n",
       "25%    3.153050e+04  5.000000e+00  1.000000e+01  6.428454e-01  4.096735e-01   \n",
       "50%    6.305750e+04  2.000000e+01  2.000000e+01  1.308083e+00  4.377512e+00   \n",
       "75%    9.433325e+04  5.000000e+01  5.000000e+01  1.965240e+00  4.983472e+00   \n",
       "max    1.257480e+05  5.000000e+01  5.000000e+01  2.935203e+00  1.000000e+02   \n",
       "\n",
       "              u_out  \n",
       "count  4.024000e+06  \n",
       "mean   6.203864e-01  \n",
       "std    4.852908e-01  \n",
       "min    0.000000e+00  \n",
       "25%    0.000000e+00  \n",
       "50%    1.000000e+00  \n",
       "75%    1.000000e+00  \n",
       "max    1.000000e+00  "
      ]
     },
     "execution_count": 65,
     "metadata": {},
     "output_type": "execute_result"
    }
   ],
   "source": [
    "# Describtion for testing data\n",
    "df3.describe()"
   ]
  },
  {
   "cell_type": "code",
   "execution_count": 66,
   "id": "80e32f97",
   "metadata": {},
   "outputs": [
    {
     "data": {
      "text/plain": [
       "(4422496, 7)"
      ]
     },
     "execution_count": 66,
     "metadata": {},
     "output_type": "execute_result"
    }
   ],
   "source": [
    "# Number of rows and columns for training data\n",
    "df2.shape"
   ]
  },
  {
   "cell_type": "code",
   "execution_count": 67,
   "id": "5086f6e5",
   "metadata": {},
   "outputs": [
    {
     "data": {
      "text/plain": [
       "(4024000, 6)"
      ]
     },
     "execution_count": 67,
     "metadata": {},
     "output_type": "execute_result"
    }
   ],
   "source": [
    "# Number of rows and columns for testing data\n",
    "df3.shape"
   ]
  },
  {
   "cell_type": "code",
   "execution_count": 68,
   "id": "1a1089be",
   "metadata": {},
   "outputs": [
    {
     "data": {
      "text/html": [
       "<div>\n",
       "<style scoped>\n",
       "    .dataframe tbody tr th:only-of-type {\n",
       "        vertical-align: middle;\n",
       "    }\n",
       "\n",
       "    .dataframe tbody tr th {\n",
       "        vertical-align: top;\n",
       "    }\n",
       "\n",
       "    .dataframe thead th {\n",
       "        text-align: right;\n",
       "    }\n",
       "</style>\n",
       "<table border=\"1\" class=\"dataframe\">\n",
       "  <thead>\n",
       "    <tr style=\"text-align: right;\">\n",
       "      <th></th>\n",
       "      <th>breath_id</th>\n",
       "      <th>R</th>\n",
       "      <th>C</th>\n",
       "      <th>time_step</th>\n",
       "      <th>u_in</th>\n",
       "      <th>u_out</th>\n",
       "      <th>pressure</th>\n",
       "    </tr>\n",
       "  </thead>\n",
       "  <tbody>\n",
       "    <tr>\n",
       "      <th>breath_id</th>\n",
       "      <td>1.000000</td>\n",
       "      <td>0.001463</td>\n",
       "      <td>0.007595</td>\n",
       "      <td>-0.002156</td>\n",
       "      <td>0.000185</td>\n",
       "      <td>-0.002502</td>\n",
       "      <td>0.001275</td>\n",
       "    </tr>\n",
       "    <tr>\n",
       "      <th>R</th>\n",
       "      <td>0.001463</td>\n",
       "      <td>1.000000</td>\n",
       "      <td>-0.095267</td>\n",
       "      <td>-0.069138</td>\n",
       "      <td>-0.066900</td>\n",
       "      <td>-0.065709</td>\n",
       "      <td>-0.009198</td>\n",
       "    </tr>\n",
       "    <tr>\n",
       "      <th>C</th>\n",
       "      <td>0.007595</td>\n",
       "      <td>-0.095267</td>\n",
       "      <td>1.000000</td>\n",
       "      <td>0.019623</td>\n",
       "      <td>0.070800</td>\n",
       "      <td>0.024342</td>\n",
       "      <td>0.048237</td>\n",
       "    </tr>\n",
       "    <tr>\n",
       "      <th>time_step</th>\n",
       "      <td>-0.002156</td>\n",
       "      <td>-0.069138</td>\n",
       "      <td>0.019623</td>\n",
       "      <td>1.000000</td>\n",
       "      <td>0.256687</td>\n",
       "      <td>0.781887</td>\n",
       "      <td>-0.507433</td>\n",
       "    </tr>\n",
       "    <tr>\n",
       "      <th>u_in</th>\n",
       "      <td>0.000185</td>\n",
       "      <td>-0.066900</td>\n",
       "      <td>0.070800</td>\n",
       "      <td>0.256687</td>\n",
       "      <td>1.000000</td>\n",
       "      <td>-0.147894</td>\n",
       "      <td>0.018809</td>\n",
       "    </tr>\n",
       "    <tr>\n",
       "      <th>u_out</th>\n",
       "      <td>-0.002502</td>\n",
       "      <td>-0.065709</td>\n",
       "      <td>0.024342</td>\n",
       "      <td>0.781887</td>\n",
       "      <td>-0.147894</td>\n",
       "      <td>1.000000</td>\n",
       "      <td>-0.508822</td>\n",
       "    </tr>\n",
       "    <tr>\n",
       "      <th>pressure</th>\n",
       "      <td>0.001275</td>\n",
       "      <td>-0.009198</td>\n",
       "      <td>0.048237</td>\n",
       "      <td>-0.507433</td>\n",
       "      <td>0.018809</td>\n",
       "      <td>-0.508822</td>\n",
       "      <td>1.000000</td>\n",
       "    </tr>\n",
       "  </tbody>\n",
       "</table>\n",
       "</div>"
      ],
      "text/plain": [
       "           breath_id         R         C  time_step      u_in     u_out  \\\n",
       "breath_id   1.000000  0.001463  0.007595  -0.002156  0.000185 -0.002502   \n",
       "R           0.001463  1.000000 -0.095267  -0.069138 -0.066900 -0.065709   \n",
       "C           0.007595 -0.095267  1.000000   0.019623  0.070800  0.024342   \n",
       "time_step  -0.002156 -0.069138  0.019623   1.000000  0.256687  0.781887   \n",
       "u_in        0.000185 -0.066900  0.070800   0.256687  1.000000 -0.147894   \n",
       "u_out      -0.002502 -0.065709  0.024342   0.781887 -0.147894  1.000000   \n",
       "pressure    0.001275 -0.009198  0.048237  -0.507433  0.018809 -0.508822   \n",
       "\n",
       "           pressure  \n",
       "breath_id  0.001275  \n",
       "R         -0.009198  \n",
       "C          0.048237  \n",
       "time_step -0.507433  \n",
       "u_in       0.018809  \n",
       "u_out     -0.508822  \n",
       "pressure   1.000000  "
      ]
     },
     "execution_count": 68,
     "metadata": {},
     "output_type": "execute_result"
    }
   ],
   "source": [
    "# Check for low correclations because they will be neglected due to low effect and Accelerate processing time in traning data\n",
    "df2.corr()"
   ]
  },
  {
   "cell_type": "code",
   "execution_count": 69,
   "id": "94906d30",
   "metadata": {
    "scrolled": true
   },
   "outputs": [
    {
     "data": {
      "text/html": [
       "<div>\n",
       "<style scoped>\n",
       "    .dataframe tbody tr th:only-of-type {\n",
       "        vertical-align: middle;\n",
       "    }\n",
       "\n",
       "    .dataframe tbody tr th {\n",
       "        vertical-align: top;\n",
       "    }\n",
       "\n",
       "    .dataframe thead th {\n",
       "        text-align: right;\n",
       "    }\n",
       "</style>\n",
       "<table border=\"1\" class=\"dataframe\">\n",
       "  <thead>\n",
       "    <tr style=\"text-align: right;\">\n",
       "      <th></th>\n",
       "      <th>breath_id</th>\n",
       "      <th>R</th>\n",
       "      <th>C</th>\n",
       "      <th>time_step</th>\n",
       "      <th>u_in</th>\n",
       "      <th>u_out</th>\n",
       "    </tr>\n",
       "  </thead>\n",
       "  <tbody>\n",
       "    <tr>\n",
       "      <th>breath_id</th>\n",
       "      <td>1.000000</td>\n",
       "      <td>0.002983</td>\n",
       "      <td>-0.003115</td>\n",
       "      <td>-0.000188</td>\n",
       "      <td>-0.002039</td>\n",
       "      <td>-0.000135</td>\n",
       "    </tr>\n",
       "    <tr>\n",
       "      <th>R</th>\n",
       "      <td>0.002983</td>\n",
       "      <td>1.000000</td>\n",
       "      <td>-0.093566</td>\n",
       "      <td>-0.014633</td>\n",
       "      <td>-0.151597</td>\n",
       "      <td>-0.007784</td>\n",
       "    </tr>\n",
       "    <tr>\n",
       "      <th>C</th>\n",
       "      <td>-0.003115</td>\n",
       "      <td>-0.093566</td>\n",
       "      <td>1.000000</td>\n",
       "      <td>0.004931</td>\n",
       "      <td>0.153041</td>\n",
       "      <td>0.003774</td>\n",
       "    </tr>\n",
       "    <tr>\n",
       "      <th>time_step</th>\n",
       "      <td>-0.000188</td>\n",
       "      <td>-0.014633</td>\n",
       "      <td>0.004931</td>\n",
       "      <td>1.000000</td>\n",
       "      <td>-0.352357</td>\n",
       "      <td>0.839221</td>\n",
       "    </tr>\n",
       "    <tr>\n",
       "      <th>u_in</th>\n",
       "      <td>-0.002039</td>\n",
       "      <td>-0.151597</td>\n",
       "      <td>0.153041</td>\n",
       "      <td>-0.352357</td>\n",
       "      <td>1.000000</td>\n",
       "      <td>-0.417020</td>\n",
       "    </tr>\n",
       "    <tr>\n",
       "      <th>u_out</th>\n",
       "      <td>-0.000135</td>\n",
       "      <td>-0.007784</td>\n",
       "      <td>0.003774</td>\n",
       "      <td>0.839221</td>\n",
       "      <td>-0.417020</td>\n",
       "      <td>1.000000</td>\n",
       "    </tr>\n",
       "  </tbody>\n",
       "</table>\n",
       "</div>"
      ],
      "text/plain": [
       "           breath_id         R         C  time_step      u_in     u_out\n",
       "breath_id   1.000000  0.002983 -0.003115  -0.000188 -0.002039 -0.000135\n",
       "R           0.002983  1.000000 -0.093566  -0.014633 -0.151597 -0.007784\n",
       "C          -0.003115 -0.093566  1.000000   0.004931  0.153041  0.003774\n",
       "time_step  -0.000188 -0.014633  0.004931   1.000000 -0.352357  0.839221\n",
       "u_in       -0.002039 -0.151597  0.153041  -0.352357  1.000000 -0.417020\n",
       "u_out      -0.000135 -0.007784  0.003774   0.839221 -0.417020  1.000000"
      ]
     },
     "execution_count": 69,
     "metadata": {},
     "output_type": "execute_result"
    }
   ],
   "source": [
    "# Check for low correclations because they will be neglected due to low effect and Accelerate processing time in testing data\n",
    "df3.corr()"
   ]
  },
  {
   "cell_type": "code",
   "execution_count": 70,
   "id": "faca058c",
   "metadata": {},
   "outputs": [
    {
     "data": {
      "text/plain": [
       "pressure     1.000000\n",
       "C            0.048237\n",
       "u_in         0.018809\n",
       "breath_id    0.001275\n",
       "R           -0.009198\n",
       "time_step   -0.507433\n",
       "u_out       -0.508822\n",
       "Name: pressure, dtype: float64"
      ]
     },
     "execution_count": 70,
     "metadata": {},
     "output_type": "execute_result"
    }
   ],
   "source": [
    "# Check for low correclations because they will be neglected due to low effect and Accelerate processing time in traning data\n",
    "df2.corr()['pressure'].sort_values(ascending = False)"
   ]
  },
  {
   "cell_type": "code",
   "execution_count": 71,
   "id": "4b1a6c4b",
   "metadata": {},
   "outputs": [],
   "source": [
    "df2['sum'] = df2['time_step'] + df2['u_out']\n",
    "df2['time_power'] = df2['time_step'] ** 2\n",
    "df2['multi'] = df2['u_in'] * df2['u_out']"
   ]
  },
  {
   "cell_type": "code",
   "execution_count": 72,
   "id": "876ef2e2",
   "metadata": {},
   "outputs": [
    {
     "data": {
      "text/plain": [
       "id\n",
       "1          0.0\n",
       "33         1.0\n",
       "34         1.0\n",
       "35         1.0\n",
       "36         1.0\n",
       "          ... \n",
       "6035996    1.0\n",
       "6035997    1.0\n",
       "6035998    1.0\n",
       "6035999    1.0\n",
       "6036000    1.0\n",
       "Name: u_out, Length: 4422496, dtype: float64"
      ]
     },
     "execution_count": 72,
     "metadata": {},
     "output_type": "execute_result"
    }
   ],
   "source": [
    "scaler = MinMaxScaler(feature_range = (0, 1))\n",
    "df2['u_out'] = scaler.fit_transform(df2[['u_out']])\n",
    "df2['u_out']"
   ]
  },
  {
   "cell_type": "code",
   "execution_count": 73,
   "id": "229eae91",
   "metadata": {},
   "outputs": [
    {
     "data": {
      "text/plain": [
       "id\n",
       "1          0.000000\n",
       "33         0.370894\n",
       "34         0.382464\n",
       "35         0.394109\n",
       "36         0.405657\n",
       "             ...   \n",
       "6035996    0.852707\n",
       "6035997    0.864064\n",
       "6035998    0.875451\n",
       "6035999    0.886801\n",
       "6036000    0.898129\n",
       "Name: time_step, Length: 4422496, dtype: float64"
      ]
     },
     "execution_count": 73,
     "metadata": {},
     "output_type": "execute_result"
    }
   ],
   "source": [
    "df2['time_step'] = scaler.fit_transform(df2[['time_step']])\n",
    "df2['time_step']"
   ]
  },
  {
   "cell_type": "code",
   "execution_count": 74,
   "id": "052c5242",
   "metadata": {},
   "outputs": [
    {
     "data": {
      "text/plain": [
       "id\n",
       "1          0.000000\n",
       "33         0.530678\n",
       "34         0.539309\n",
       "35         0.547996\n",
       "36         0.556611\n",
       "             ...   \n",
       "6035996    0.890117\n",
       "6035997    0.898590\n",
       "6035998    0.907085\n",
       "6035999    0.915552\n",
       "6036000    0.924002\n",
       "Name: sum, Length: 4422496, dtype: float64"
      ]
     },
     "execution_count": 74,
     "metadata": {},
     "output_type": "execute_result"
    }
   ],
   "source": [
    "df2['sum'] = scaler.fit_transform(df2[['sum']])\n",
    "df2['sum']"
   ]
  },
  {
   "cell_type": "code",
   "execution_count": 75,
   "id": "2093a6c1",
   "metadata": {},
   "outputs": [
    {
     "data": {
      "text/plain": [
       "id\n",
       "1          0.000000\n",
       "33         0.137562\n",
       "34         0.146278\n",
       "35         0.155322\n",
       "36         0.164557\n",
       "             ...   \n",
       "6035996    0.727109\n",
       "6035997    0.746606\n",
       "6035998    0.766414\n",
       "6035999    0.786415\n",
       "6036000    0.806635\n",
       "Name: time_power, Length: 4422496, dtype: float64"
      ]
     },
     "execution_count": 75,
     "metadata": {},
     "output_type": "execute_result"
    }
   ],
   "source": [
    "df2['time_power'] = scaler.fit_transform(df2[['time_power']])\n",
    "df2['time_power']"
   ]
  },
  {
   "cell_type": "code",
   "execution_count": 76,
   "id": "8148945b",
   "metadata": {},
   "outputs": [
    {
     "data": {
      "text/plain": [
       "id\n",
       "1          0.000000\n",
       "33         0.000000\n",
       "34         0.000000\n",
       "35         0.000000\n",
       "36         0.000000\n",
       "             ...   \n",
       "6035996    0.125513\n",
       "6035997    0.125411\n",
       "6035998    0.131349\n",
       "6035999    0.107226\n",
       "6036000    0.124926\n",
       "Name: multi, Length: 4422496, dtype: float64"
      ]
     },
     "execution_count": 76,
     "metadata": {},
     "output_type": "execute_result"
    }
   ],
   "source": [
    "df2['multi'] = scaler.fit_transform(df2[['multi']])\n",
    "df2['multi']"
   ]
  },
  {
   "cell_type": "code",
   "execution_count": 77,
   "id": "5c19594c",
   "metadata": {},
   "outputs": [
    {
     "data": {
      "text/plain": [
       "pressure      1.000000\n",
       "C             0.048237\n",
       "u_in          0.018809\n",
       "breath_id     0.001275\n",
       "R            -0.009198\n",
       "multi        -0.389951\n",
       "time_step    -0.507433\n",
       "u_out        -0.508822\n",
       "time_power   -0.509121\n",
       "sum          -0.535420\n",
       "Name: pressure, dtype: float64"
      ]
     },
     "execution_count": 77,
     "metadata": {},
     "output_type": "execute_result"
    }
   ],
   "source": [
    "df2.corr()['pressure'].sort_values(ascending = False)"
   ]
  },
  {
   "cell_type": "code",
   "execution_count": 78,
   "id": "bdbf42a3",
   "metadata": {},
   "outputs": [],
   "source": [
    "x = df2[['sum', 'time_step', 'u_out', 'time_power', 'multi']]\n",
    "y = df2[['pressure']]"
   ]
  },
  {
   "cell_type": "code",
   "execution_count": 79,
   "id": "f99d4478",
   "metadata": {},
   "outputs": [],
   "source": [
    "x_train, x_test, y_train, y_test = train_test_split(x, y, test_size = 0.2, random_state = 42)"
   ]
  },
  {
   "cell_type": "code",
   "execution_count": 80,
   "id": "ed224842",
   "metadata": {},
   "outputs": [],
   "source": [
    "model = Sequential()\n",
    "model.add(Dense(100, input_shape=(x_train.shape[1],),activation = 'relu'))\n",
    "model.add(Dense(100, activation = 'relu'))\n",
    "model.add(Dense(100, activation = 'relu'))\n",
    "model.add(Dense(100, activation = 'relu'))\n",
    "model.add(Dense(100, activation = 'relu'))\n",
    "model.add(Dense(100, activation = 'relu'))\n",
    "model.add(Dense(100, activation = 'relu'))\n",
    "model.add(Dense(100, activation = 'relu'))\n",
    "model.add(Dense(100, activation = 'relu'))\n",
    "model.add(Dense(100, activation = 'relu'))\n",
    "model.add(Dense(1, activation = 'linear'))"
   ]
  },
  {
   "cell_type": "code",
   "execution_count": 81,
   "id": "62ccee36",
   "metadata": {},
   "outputs": [],
   "source": [
    "model.compile(optimizer = 'adam', loss = 'mean_squared_error')"
   ]
  },
  {
   "cell_type": "code",
   "execution_count": 82,
   "id": "0dfaf881",
   "metadata": {},
   "outputs": [
    {
     "name": "stdout",
     "output_type": "stream",
     "text": [
      "Epoch 1/10\n",
      "864/864 [==============================] - 35s 37ms/step - loss: 3.2702 - val_loss: 2.1034\n",
      "Epoch 2/10\n",
      "864/864 [==============================] - 32s 37ms/step - loss: 2.1146 - val_loss: 2.1025\n",
      "Epoch 3/10\n",
      "864/864 [==============================] - 31s 36ms/step - loss: 2.1151 - val_loss: 2.0998\n",
      "Epoch 4/10\n",
      "864/864 [==============================] - 31s 36ms/step - loss: 2.1064 - val_loss: 2.0945\n",
      "Epoch 5/10\n",
      "864/864 [==============================] - 31s 36ms/step - loss: 2.1052 - val_loss: 2.0975\n",
      "Epoch 6/10\n",
      "864/864 [==============================] - 32s 38ms/step - loss: 2.1038 - val_loss: 2.0900\n",
      "Epoch 7/10\n",
      "864/864 [==============================] - 42s 49ms/step - loss: 2.1010 - val_loss: 2.1000\n",
      "Epoch 8/10\n",
      "864/864 [==============================] - 41s 47ms/step - loss: 2.0998 - val_loss: 2.0864\n",
      "Epoch 9/10\n",
      "864/864 [==============================] - 41s 47ms/step - loss: 2.0963 - val_loss: 2.1356\n",
      "Epoch 10/10\n",
      "864/864 [==============================] - 40s 47ms/step - loss: 2.0959 - val_loss: 2.0973\n"
     ]
    }
   ],
   "source": [
    "history = model.fit(x_train, y_train, epochs = 10, batch_size = 4096, validation_split = 0.2, validation_data = (x_test, y_test))"
   ]
  },
  {
   "cell_type": "code",
   "execution_count": 83,
   "id": "edbb08e7",
   "metadata": {},
   "outputs": [
    {
     "name": "stdout",
     "output_type": "stream",
     "text": [
      "27641/27641 [==============================] - 61s 2ms/step - loss: 2.0973\n"
     ]
    }
   ],
   "source": [
    "loss = model.evaluate(x_test, y_test)"
   ]
  },
  {
   "cell_type": "code",
   "execution_count": 84,
   "id": "0997000b",
   "metadata": {},
   "outputs": [
    {
     "name": "stdout",
     "output_type": "stream",
     "text": [
      "27641/27641 [==============================] - 41s 1ms/step\n"
     ]
    }
   ],
   "source": [
    "predictions = model.predict(x_test)"
   ]
  },
  {
   "cell_type": "code",
   "execution_count": 85,
   "id": "33c7c2d6",
   "metadata": {},
   "outputs": [
    {
     "name": "stdout",
     "output_type": "stream",
     "text": [
      "Loss: 2.0973386764526367\n",
      "Predictions: [[6.1660814]\n",
      " [6.3678656]\n",
      " [6.7102   ]\n",
      " ...\n",
      " [6.7016397]\n",
      " [6.8493304]\n",
      " [6.7493978]]\n"
     ]
    }
   ],
   "source": [
    "print(\"Loss:\", loss)\n",
    "print(\"Predictions:\", predictions)"
   ]
  },
  {
   "cell_type": "code",
   "execution_count": 86,
   "id": "0ea03bf8",
   "metadata": {},
   "outputs": [
    {
     "name": "stdout",
     "output_type": "stream",
     "text": [
      "R-squared on Test Data: 0.5590743237469006\n"
     ]
    }
   ],
   "source": [
    "r_squared = r2_score(y_test, predictions)\n",
    "print(\"R-squared on Test Data:\", r_squared)"
   ]
  },
  {
   "cell_type": "code",
   "execution_count": 87,
   "id": "afb7f786",
   "metadata": {
    "scrolled": false
   },
   "outputs": [
    {
     "name": "stdout",
     "output_type": "stream",
     "text": [
      "MSE: 2.09734331296483\n",
      "MAE: 0.9452434867345069\n"
     ]
    }
   ],
   "source": [
    "print('MSE:', mean_squared_error(y_test, predictions))\n",
    "print('MAE:', mean_absolute_error(y_test, predictions))"
   ]
  },
  {
   "cell_type": "code",
   "execution_count": 88,
   "id": "f2ec37e6",
   "metadata": {},
   "outputs": [],
   "source": [
    "df3['sum'] = df3['time_step'] + df3['u_out']\n",
    "df3['time_power'] = df3['time_step'] ** 2\n",
    "df3['multi'] = df3['u_in'] * df3['u_out']"
   ]
  },
  {
   "cell_type": "code",
   "execution_count": 89,
   "id": "cfb56064",
   "metadata": {},
   "outputs": [
    {
     "name": "stdout",
     "output_type": "stream",
     "text": [
      "125750/125750 [==============================] - 205s 2ms/step\n"
     ]
    },
    {
     "data": {
      "text/plain": [
       "array([[ 5.865617],\n",
       "       [ 7.743886],\n",
       "       [ 9.240965],\n",
       "       ...,\n",
       "       [18.186993],\n",
       "       [18.2566  ],\n",
       "       [18.332266]], dtype=float32)"
      ]
     },
     "execution_count": 89,
     "metadata": {},
     "output_type": "execute_result"
    }
   ],
   "source": [
    "predictions2 = model.predict(df3[['sum', 'time_step', 'u_out', 'time_power', 'multi']])\n",
    "predictions2"
   ]
  },
  {
   "cell_type": "code",
   "execution_count": 90,
   "id": "a5381e15",
   "metadata": {},
   "outputs": [
    {
     "data": {
      "text/html": [
       "<div>\n",
       "<style scoped>\n",
       "    .dataframe tbody tr th:only-of-type {\n",
       "        vertical-align: middle;\n",
       "    }\n",
       "\n",
       "    .dataframe tbody tr th {\n",
       "        vertical-align: top;\n",
       "    }\n",
       "\n",
       "    .dataframe thead th {\n",
       "        text-align: right;\n",
       "    }\n",
       "</style>\n",
       "<table border=\"1\" class=\"dataframe\">\n",
       "  <thead>\n",
       "    <tr style=\"text-align: right;\">\n",
       "      <th></th>\n",
       "      <th>pressure</th>\n",
       "    </tr>\n",
       "    <tr>\n",
       "      <th>id</th>\n",
       "      <th></th>\n",
       "    </tr>\n",
       "  </thead>\n",
       "  <tbody>\n",
       "    <tr>\n",
       "      <th>1</th>\n",
       "      <td>5.865617</td>\n",
       "    </tr>\n",
       "    <tr>\n",
       "      <th>2</th>\n",
       "      <td>7.743886</td>\n",
       "    </tr>\n",
       "    <tr>\n",
       "      <th>3</th>\n",
       "      <td>9.240965</td>\n",
       "    </tr>\n",
       "    <tr>\n",
       "      <th>4</th>\n",
       "      <td>9.944887</td>\n",
       "    </tr>\n",
       "    <tr>\n",
       "      <th>5</th>\n",
       "      <td>10.365307</td>\n",
       "    </tr>\n",
       "  </tbody>\n",
       "</table>\n",
       "</div>"
      ],
      "text/plain": [
       "     pressure\n",
       "id           \n",
       "1    5.865617\n",
       "2    7.743886\n",
       "3    9.240965\n",
       "4    9.944887\n",
       "5   10.365307"
      ]
     },
     "execution_count": 90,
     "metadata": {},
     "output_type": "execute_result"
    }
   ],
   "source": [
    "df.drop('pressure', axis = 1, inplace = True)\n",
    "df['pressure'] = predictions2\n",
    "df.head()"
   ]
  }
 ],
 "metadata": {
  "kernelspec": {
   "display_name": "Python 3 (ipykernel)",
   "language": "python",
   "name": "python3"
  },
  "language_info": {
   "codemirror_mode": {
    "name": "ipython",
    "version": 3
   },
   "file_extension": ".py",
   "mimetype": "text/x-python",
   "name": "python",
   "nbconvert_exporter": "python",
   "pygments_lexer": "ipython3",
   "version": "3.9.13"
  }
 },
 "nbformat": 4,
 "nbformat_minor": 5
}
